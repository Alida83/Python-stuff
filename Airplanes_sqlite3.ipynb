{
 "cells": [
  {
   "cell_type": "markdown",
   "id": "f39b6eff",
   "metadata": {},
   "source": [
    "# Coursework project "
   ]
  },
  {
   "cell_type": "markdown",
   "id": "5e7caebe",
   "metadata": {},
   "source": [
    "## (Data ('project.csv') has been made in R ready to use)"
   ]
  },
  {
   "cell_type": "markdown",
   "id": "cf62fa6d",
   "metadata": {},
   "source": [
    "## SQL (connecting, creating database)"
   ]
  },
  {
   "cell_type": "code",
   "execution_count": 1,
   "id": "872208f6",
   "metadata": {},
   "outputs": [],
   "source": [
    "# ======= connencting to database ========\n",
    "import sqlite3\n",
    "import os\n",
    "import pandas as pd"
   ]
  },
  {
   "cell_type": "code",
   "execution_count": 2,
   "id": "b924aa3f",
   "metadata": {},
   "outputs": [],
   "source": [
    "# ==== change to the directory where the files are stored ====\n",
    "os.chdir(\"/Users/alida/Documents\")"
   ]
  },
  {
   "cell_type": "code",
   "execution_count": 3,
   "id": "dc0c2ba2",
   "metadata": {},
   "outputs": [],
   "source": [
    "try:\n",
    "    os.remove('coursework.db')\n",
    "except OSError:\n",
    "    pass"
   ]
  },
  {
   "cell_type": "code",
   "execution_count": 4,
   "id": "878aee6b",
   "metadata": {},
   "outputs": [],
   "source": [
    "conn = sqlite3.connect('coursework.db')"
   ]
  },
  {
   "cell_type": "code",
   "execution_count": 5,
   "id": "ebfd9323",
   "metadata": {},
   "outputs": [
    {
     "data": {
      "text/plain": [
       "300000"
      ]
     },
     "execution_count": 5,
     "metadata": {},
     "output_type": "execute_result"
    }
   ],
   "source": [
    "# ======= creating tables =======\n",
    "airports = pd.read_csv(\"airports.csv\")\n",
    "carriers = pd.read_csv(\"carriers.csv\")\n",
    "planes = pd.read_csv(\"plane-data.csv\")\n",
    "project = pd.read_csv(\"project.csv\")\n",
    "\n",
    "airports.to_sql('airports', con = conn, index = False)\n",
    "carriers.to_sql('carriers', con = conn, index = False)\n",
    "planes.to_sql('planes', con = conn, index = False)\n",
    "project.to_sql('project', con = conn, index = False)"
   ]
  },
  {
   "cell_type": "code",
   "execution_count": 6,
   "id": "67929a83",
   "metadata": {},
   "outputs": [],
   "source": [
    "# ====== manipulate databases ========\n",
    "c = conn.cursor()"
   ]
  },
  {
   "cell_type": "code",
   "execution_count": 7,
   "id": "d2f042b7",
   "metadata": {},
   "outputs": [
    {
     "data": {
      "text/plain": [
       "[('airports',), ('carriers',), ('planes',), ('project',)]"
      ]
     },
     "execution_count": 7,
     "metadata": {},
     "output_type": "execute_result"
    }
   ],
   "source": [
    "# ============\n",
    "c.execute('''\n",
    "          SELECT name\n",
    "          FROM sqlite_master\n",
    "          WHERE type='table'\n",
    "          ''')\n",
    "c.fetchall()\n"
   ]
  },
  {
   "cell_type": "markdown",
   "id": "1c546b97",
   "metadata": {},
   "source": [
    "## Question 1"
   ]
  },
  {
   "cell_type": "markdown",
   "id": "eafa8d98",
   "metadata": {},
   "source": [
    "### Q1A"
   ]
  },
  {
   "cell_type": "code",
   "execution_count": 8,
   "id": "f5cee7ba",
   "metadata": {},
   "outputs": [
    {
     "name": "stdout",
     "output_type": "stream",
     "text": [
      "      DepTime    avg_delay\n",
      "0       531.0     1.454545\n",
      "1       601.0     1.496241\n",
      "2       502.0     2.000000\n",
      "3       512.0     2.000000\n",
      "4       517.0     2.000000\n",
      "...       ...          ...\n",
      "1331    300.0   405.000000\n",
      "1332    320.0   412.500000\n",
      "1333    249.0   449.000000\n",
      "1334    145.0   690.000000\n",
      "1335    452.0  1359.000000\n",
      "\n",
      "[1336 rows x 2 columns]\n"
     ]
    }
   ],
   "source": [
    "# ======== Q1A ===========\n",
    "Q1A = c.execute('''\n",
    "SELECT DepTime AS DepTime, AVG(project.DepDelay) AS avg_delay\n",
    "FROM project\n",
    "WHERE project.Cancelled = 0 AND project.Diverted = 0 AND project.DepDelay > 0\n",
    "GROUP BY DepTime\n",
    "ORDER BY avg_delay\n",
    "''')\n",
    "\n",
    "conn.commit()\n",
    "\n",
    "c.fetchall()\n",
    "\n",
    "Q1A = pd.read_sql('''\n",
    "SELECT DepTime AS DepTime, AVG(project.DepDelay) AS avg_delay\n",
    "FROM project\n",
    "WHERE project.Cancelled = 0 AND project.Diverted = 0 AND project.DepDelay > 0\n",
    "GROUP BY DepTime\n",
    "ORDER BY avg_delay\n",
    "''', conn)\n",
    "\n",
    "print(Q1A)"
   ]
  },
  {
   "cell_type": "code",
   "execution_count": 9,
   "id": "a1e07f1d",
   "metadata": {},
   "outputs": [
    {
     "data": {
      "text/html": [
       "<div>\n",
       "<style scoped>\n",
       "    .dataframe tbody tr th:only-of-type {\n",
       "        vertical-align: middle;\n",
       "    }\n",
       "\n",
       "    .dataframe tbody tr th {\n",
       "        vertical-align: top;\n",
       "    }\n",
       "\n",
       "    .dataframe thead th {\n",
       "        text-align: right;\n",
       "    }\n",
       "</style>\n",
       "<table border=\"1\" class=\"dataframe\">\n",
       "  <thead>\n",
       "    <tr style=\"text-align: right;\">\n",
       "      <th></th>\n",
       "      <th>DepTime</th>\n",
       "      <th>avg_delay</th>\n",
       "      <th>PartOfDay</th>\n",
       "    </tr>\n",
       "  </thead>\n",
       "  <tbody>\n",
       "    <tr>\n",
       "      <th>0</th>\n",
       "      <td>531.0</td>\n",
       "      <td>1.454545</td>\n",
       "      <td>Night</td>\n",
       "    </tr>\n",
       "    <tr>\n",
       "      <th>1</th>\n",
       "      <td>601.0</td>\n",
       "      <td>1.496241</td>\n",
       "      <td>Morning</td>\n",
       "    </tr>\n",
       "    <tr>\n",
       "      <th>2</th>\n",
       "      <td>502.0</td>\n",
       "      <td>2.000000</td>\n",
       "      <td>Night</td>\n",
       "    </tr>\n",
       "    <tr>\n",
       "      <th>3</th>\n",
       "      <td>512.0</td>\n",
       "      <td>2.000000</td>\n",
       "      <td>Night</td>\n",
       "    </tr>\n",
       "    <tr>\n",
       "      <th>4</th>\n",
       "      <td>517.0</td>\n",
       "      <td>2.000000</td>\n",
       "      <td>Night</td>\n",
       "    </tr>\n",
       "  </tbody>\n",
       "</table>\n",
       "</div>"
      ],
      "text/plain": [
       "   DepTime  avg_delay PartOfDay\n",
       "0    531.0   1.454545     Night\n",
       "1    601.0   1.496241   Morning\n",
       "2    502.0   2.000000     Night\n",
       "3    512.0   2.000000     Night\n",
       "4    517.0   2.000000     Night"
      ]
     },
     "execution_count": 9,
     "metadata": {},
     "output_type": "execute_result"
    }
   ],
   "source": [
    "# create a part of day column\\n\",\n",
    "import numpy as np\n",
    "\n",
    "conditions = [(Q1A['DepTime'] <= 600),\n",
    "                (Q1A['DepTime'] <= 1200) & (Q1A['DepTime'] > 600),\n",
    "                (Q1A['DepTime'] <= 1800) & (Q1A['DepTime'] > 1200),\n",
    "                (Q1A['DepTime'] <= 2400) & (Q1A['DepTime'] > 1800),\n",
    "                (Q1A['DepTime'] <= 2800) & (Q1A['DepTime'] > 2400)]\n",
    "\n",
    "values = ['Night', 'Morning', 'Afternoon', 'Evening', 'Night']\n",
    "\n",
    "Q1A['PartOfDay'] = np.select(conditions, values)\n",
    "Q1A.head()"
   ]
  },
  {
   "cell_type": "code",
   "execution_count": 10,
   "id": "bcaf31f0",
   "metadata": {},
   "outputs": [
    {
     "data": {
      "text/plain": [
       "(0.0, 100.0)"
      ]
     },
     "execution_count": 10,
     "metadata": {},
     "output_type": "execute_result"
    },
    {
     "data": {
      "image/png": "[encoded data removed]",
      "text/plain": [
       "<Figure size 432x288 with 1 Axes>"
      ]
     },
     "metadata": {
      "needs_background": "light"
     },
     "output_type": "display_data"
    }
   ],
   "source": [
    "# ===== boxplot of Q1A ======\n",
    "\n",
    "import matplotlib.pyplot as plt\n",
    "import seaborn as sns\n",
    "\n",
    "sns.boxplot(x = Q1A['PartOfDay'], y = Q1A['avg_delay'])\n",
    "plt.ylim([0, 100])"
   ]
  },
  {
   "cell_type": "markdown",
   "id": "3512eaa0",
   "metadata": {},
   "source": [
    "### Q1B"
   ]
  },
  {
   "cell_type": "code",
   "execution_count": 11,
   "id": "9baf3248",
   "metadata": {},
   "outputs": [
    {
     "name": "stdout",
     "output_type": "stream",
     "text": [
      "   Day  avg_delay\n",
      "0    6  27.378710\n",
      "1    2  28.925619\n",
      "2    7  30.633071\n",
      "3    1  30.772063\n",
      "4    3  31.359622\n",
      "5    5  31.901358\n",
      "6    4  32.352756\n"
     ]
    }
   ],
   "source": [
    "# ========= Q1B =================\n",
    "Q1B = c.execute('''\n",
    "SELECT DayOfWeek AS Day, AVG(project.DepDelay) AS avg_delay\n",
    "FROM project\n",
    "WHERE project.Cancelled = 0 AND project.Diverted = 0 AND project.DepDelay > 0\n",
    "GROUP BY DayOfWeek\n",
    "ORDER BY avg_delay\n",
    "''')\n",
    "\n",
    "conn.commit()\n",
    "\n",
    "c.fetchall()\n",
    "\n",
    "Q1B = pd.read_sql('''\n",
    "SELECT DayOfWeek AS Day, AVG(project.DepDelay) AS avg_delay\n",
    "FROM project\n",
    "WHERE project.Cancelled = 0 AND project.Diverted = 0 AND project.DepDelay > 0\n",
    "GROUP BY DayOfWeek\n",
    "ORDER BY avg_delay\n",
    "''', conn)\n",
    "\n",
    "print(Q1B)"
   ]
  },
  {
   "cell_type": "code",
   "execution_count": 12,
   "id": "873c338a",
   "metadata": {},
   "outputs": [
    {
     "data": {
      "text/plain": [
       "Text(0, 0.5, 'Avegare delay in minutes')"
      ]
     },
     "execution_count": 12,
     "metadata": {},
     "output_type": "execute_result"
    },
    {
     "data": {
      "image/png": "[encoded data removed]",
      "text/plain": [
       "<Figure size 432x288 with 1 Axes>"
      ]
     },
     "metadata": {
      "needs_background": "light"
     },
     "output_type": "display_data"
    }
   ],
   "source": [
    "# ===== lollipop chart of Q1B ======\n",
    "import matplotlib.pyplot as plt\n",
    "import seaborn as sns\n",
    "\n",
    "fig, axes = plt.subplots()\n",
    "\n",
    "axes.stem(Q1B['Day'], Q1B['avg_delay'], use_line_collection=True)\n",
    "axes.set_ylim(27)\n",
    "\n",
    "plt.xlabel('Day of week')\n",
    "plt.ylabel('Avegare delay in minutes')"
   ]
  },
  {
   "cell_type": "markdown",
   "id": "a81ff86c",
   "metadata": {},
   "source": [
    "### Q1C"
   ]
  },
  {
   "cell_type": "code",
   "execution_count": 13,
   "id": "15c3327c",
   "metadata": {},
   "outputs": [
    {
     "name": "stdout",
     "output_type": "stream",
     "text": [
      "    Month  avg_delay\n",
      "0      11  27.298564\n",
      "1       9  27.800076\n",
      "2       4  27.832324\n",
      "3       5  28.446284\n",
      "4       2  29.779953\n",
      "5      10  29.794844\n",
      "6       3  29.817585\n",
      "7       1  30.334964\n",
      "8       8  31.549586\n",
      "9      12  33.025184\n",
      "10      6  33.635219\n",
      "11      7  34.821017\n"
     ]
    }
   ],
   "source": [
    "# ======= Q1C =============\n",
    "c.execute('''\n",
    "SELECT Month AS Month, AVG(project.DepDelay) AS avg_delay\n",
    "FROM project\n",
    "WHERE project.Cancelled = 0 AND project.Diverted = 0 AND project.DepDelay > 0\n",
    "GROUP BY Month\n",
    "ORDER BY avg_delay\n",
    "''')\n",
    "\n",
    "conn.commit()\n",
    "\n",
    "c.fetchall()\n",
    "\n",
    "Q1C = pd.read_sql('''\n",
    "SELECT Month AS Month, AVG(project.DepDelay) AS avg_delay\n",
    "FROM project\n",
    "WHERE project.Cancelled = 0 AND project.Diverted = 0 AND project.DepDelay > 0\n",
    "GROUP BY Month\n",
    "ORDER BY avg_delay\n",
    "''', conn)\n",
    "\n",
    "print(Q1C)"
   ]
  },
  {
   "cell_type": "code",
   "execution_count": 14,
   "id": "7749eafd",
   "metadata": {},
   "outputs": [
    {
     "data": {
      "text/plain": [
       "Text(0, 0.5, 'Avegare delay in minutes')"
      ]
     },
     "execution_count": 14,
     "metadata": {},
     "output_type": "execute_result"
    },
    {
     "data": {
      "image/png": "[encoded data removed]",
      "text/plain": [
       "<Figure size 432x288 with 1 Axes>"
      ]
     },
     "metadata": {
      "needs_background": "light"
     },
     "output_type": "display_data"
    }
   ],
   "source": [
    "# ======= lollipop chart of Q1C =======\n",
    "fig, axes = plt.subplots()\n",
    "\n",
    "axes.stem(Q1C['Month'], Q1C['avg_delay'], use_line_collection=True)\n",
    "axes.set_ylim(27)\n",
    "\n",
    "plt.xlabel('Month')\n",
    "plt.ylabel('Avegare delay in minutes')  "
   ]
  },
  {
   "cell_type": "markdown",
   "id": "e965de36",
   "metadata": {},
   "source": [
    "## Question 2"
   ]
  },
  {
   "cell_type": "code",
   "execution_count": 15,
   "id": "31d7fa6d",
   "metadata": {},
   "outputs": [
    {
     "name": "stdout",
     "output_type": "stream",
     "text": [
      "    year      delay\n",
      "0   1956  17.333333\n",
      "1   1957  21.666667\n",
      "2   1959  44.175000\n",
      "3   1962  36.047619\n",
      "4   1963  13.384615\n",
      "5   1964  37.400000\n",
      "6   1965  29.071429\n",
      "7   1966  33.444444\n",
      "8   1967  34.907258\n",
      "9   1968  33.839827\n",
      "10  1969  32.710145\n",
      "11  1970  22.882353\n",
      "12  1971  21.894737\n",
      "13  1972   6.333333\n",
      "14  1973  26.928571\n",
      "15  1974  41.360000\n",
      "16  1975  40.042553\n",
      "17  1976  35.834171\n",
      "18  1977  31.669903\n",
      "19  1978  27.398844\n",
      "20  1979  31.128755\n",
      "21  1980  27.611111\n",
      "22  1982  33.337349\n",
      "23  1983  31.752727\n",
      "24  1984  27.976783\n",
      "25  1985  26.985343\n",
      "26  1986  28.740493\n",
      "27  1987  30.228276\n",
      "28  1988  30.326935\n",
      "29  1989  27.722845\n",
      "30  1990  28.668633\n",
      "31  1991  31.277029\n",
      "32  1992  31.744353\n",
      "33  1993  28.902562\n",
      "34  1994  30.657799\n",
      "35  1995  28.403883\n",
      "36  1996  28.864003\n",
      "37  1997  34.762814\n",
      "38  1998  31.001099\n",
      "39  1999  32.041439\n",
      "40  2000  30.797099\n",
      "41  2001  30.570878\n",
      "42  2002  31.934246\n",
      "43  2003  32.923935\n",
      "44  2004  31.468299\n",
      "45  2005  30.926547\n",
      "46  2006  30.183070\n",
      "47  2007  24.300826\n",
      "48  None  34.581129\n"
     ]
    }
   ],
   "source": [
    "# ========= Q2 ==============\n",
    "\n",
    "Q2 = ('''\n",
    "SELECT planes.year AS year, AVG(project.DepDelay) AS delay\n",
    "FROM planes JOIN project USING (tailnum)\n",
    "WHERE project.Cancelled = 0 AND project.Diverted = 0 AND project.DepDelay > 0 AND planes.year >= 1956\n",
    "GROUP BY planes.year\n",
    "ORDER BY planes.year\n",
    "''')\n",
    "\n",
    "conn.commit()\n",
    "\n",
    "c.fetchall()\n",
    "\n",
    "Q2 = pd.read_sql('''\n",
    "SELECT planes.year AS year, AVG(project.DepDelay) AS delay\n",
    "FROM planes JOIN project USING (tailnum)\n",
    "WHERE project.Cancelled = 0 AND project.Diverted = 0 AND project.DepDelay > 0 AND planes.year >= 1956\n",
    "GROUP BY planes.year\n",
    "ORDER BY planes.year\n",
    "''', conn)\n",
    "\n",
    "print(Q2)"
   ]
  },
  {
   "cell_type": "code",
   "execution_count": 16,
   "id": "adab9f7d",
   "metadata": {
    "scrolled": true
   },
   "outputs": [
    {
     "data": {
      "text/plain": [
       "<matplotlib.collections.PathCollection at 0x28eac2816d0>"
      ]
     },
     "execution_count": 16,
     "metadata": {},
     "output_type": "execute_result"
    },
    {
     "data": {
      "image/png": "[encoded data removed]",
      "text/plain": [
       "<Figure size 432x288 with 1 Axes>"
      ]
     },
     "metadata": {
      "needs_background": "light"
     },
     "output_type": "display_data"
    }
   ],
   "source": [
    "# ======= scatter plot of Q2 ===========\n",
    "plt.scatter(Q2['delay'], Q2['year'])"
   ]
  },
  {
   "cell_type": "markdown",
   "id": "c826f776",
   "metadata": {},
   "source": [
    "## Question 3 "
   ]
  },
  {
   "cell_type": "code",
   "execution_count": 17,
   "id": "eb078330",
   "metadata": {},
   "outputs": [
    {
     "name": "stdout",
     "output_type": "stream",
     "text": [
      "                city  total\n",
      "0            Chicago   5934\n",
      "1            Atlanta   5812\n",
      "2  Dallas-Fort Worth   4358\n",
      "3            Houston   3661\n",
      "4        Los Angeles   3225\n",
      "5           New York   3097\n",
      "6          Covington   2872\n",
      "7             Denver   2539\n",
      "8            Phoenix   2416\n",
      "9          Las Vegas   2338\n"
     ]
    }
   ],
   "source": [
    "# ========= Q3 ==============\n",
    "\n",
    "Q31 = ('''\n",
    "SELECT airports.city AS city, COUNT(*) AS total\n",
    "FROM airports JOIN project ON project.Origin = airports.iata\n",
    "WHERE project.Year = 2005 AND project.Cancelled = 0 AND project.Diverted = 0\n",
    "GROUP BY airports.city\n",
    "ORDER BY total DESC\n",
    "LIMIT 10\n",
    "''')\n",
    "\n",
    "conn.commit()\n",
    "\n",
    "c.fetchall()\n",
    "\n",
    "Q31 = pd.read_sql('''\n",
    "SELECT airports.city AS city, COUNT(*) AS total\n",
    "FROM airports JOIN project ON project.Origin = airports.iata\n",
    "WHERE project.Year = 2005 AND project.Cancelled = 0 AND project.Diverted = 0\n",
    "GROUP BY airports.city\n",
    "ORDER BY total DESC\n",
    "LIMIT 10\n",
    "''', conn)\n",
    "\n",
    "print(Q31)"
   ]
  },
  {
   "cell_type": "code",
   "execution_count": 18,
   "id": "80b5f076",
   "metadata": {},
   "outputs": [
    {
     "name": "stdout",
     "output_type": "stream",
     "text": [
      "                city  total\n",
      "0            Chicago   6375\n",
      "1            Atlanta   5659\n",
      "2  Dallas-Fort Worth   4144\n",
      "3            Houston   3874\n",
      "4           New York   3273\n",
      "5        Los Angeles   3259\n",
      "6             Denver   3198\n",
      "7            Phoenix   3015\n",
      "8          Las Vegas   2480\n",
      "9             Newark   2097\n"
     ]
    }
   ],
   "source": [
    "Q32 = ('''\n",
    "SELECT airports.city AS city, COUNT(*) AS total\n",
    "FROM airports JOIN project ON project.Origin = airports.iata\n",
    "WHERE project.Year = 2006 AND project.Cancelled = 0 AND project.Diverted = 0\n",
    "GROUP BY airports.city\n",
    "ORDER BY total DESC\n",
    "LIMIT 10\n",
    "''')\n",
    "\n",
    "conn.commit()\n",
    "\n",
    "c.fetchall()\n",
    "\n",
    "Q32 = pd.read_sql('''\n",
    "SELECT airports.city AS city, COUNT(*) AS total\n",
    "FROM airports JOIN project ON project.Origin = airports.iata\n",
    "WHERE project.Year = 2006 AND project.Cancelled = 0 AND project.Diverted = 0\n",
    "GROUP BY airports.city\n",
    "ORDER BY total DESC\n",
    "LIMIT 10\n",
    "''', conn)\n",
    "\n",
    "print(Q32)"
   ]
  },
  {
   "cell_type": "code",
   "execution_count": 19,
   "id": "898ebd31",
   "metadata": {},
   "outputs": [
    {
     "name": "stdout",
     "output_type": "stream",
     "text": [
      "                city  total\n",
      "0            Chicago   6110\n",
      "1            Atlanta   5390\n",
      "2  Dallas-Fort Worth   3774\n",
      "3            Houston   3325\n",
      "4             Denver   3226\n",
      "5           New York   3154\n",
      "6        Los Angeles   2995\n",
      "7            Phoenix   2804\n",
      "8          Las Vegas   2473\n",
      "9            Detroit   2272\n"
     ]
    }
   ],
   "source": [
    "Q33 = ('''\n",
    "SELECT airports.city AS city, COUNT(*) AS total\n",
    "FROM airports JOIN project ON project.Origin = airports.iata\n",
    "WHERE project.Year = 2007 AND project.Cancelled = 0 AND project.Diverted = 0\n",
    "GROUP BY airports.city\n",
    "ORDER BY total DESC\n",
    "LIMIT 10\n",
    "''')\n",
    "\n",
    "conn.commit()\n",
    "\n",
    "c.fetchall()\n",
    "\n",
    "Q33 = pd.read_sql('''\n",
    "SELECT airports.city AS city, COUNT(*) AS total\n",
    "FROM airports JOIN project ON project.Origin = airports.iata\n",
    "WHERE project.Year = 2007 AND project.Cancelled = 0 AND project.Diverted = 0\n",
    "GROUP BY airports.city\n",
    "ORDER BY total DESC\n",
    "LIMIT 10\n",
    "''', conn)\n",
    "\n",
    "print(Q33)"
   ]
  },
  {
   "cell_type": "code",
   "execution_count": 20,
   "id": "8c1efeb1",
   "metadata": {},
   "outputs": [
    {
     "data": {
      "text/plain": [
       "<AxesSubplot:xlabel='total', ylabel='city'>"
      ]
     },
     "execution_count": 20,
     "metadata": {},
     "output_type": "execute_result"
    },
    {
     "data": {
      "image/png": "[encoded data removed]",
      "text/plain": [
       "<Figure size 432x288 with 1 Axes>"
      ]
     },
     "metadata": {
      "needs_background": "light"
     },
     "output_type": "display_data"
    }
   ],
   "source": [
    "# =============== plotting Q3 =================\n",
    "\n",
    "ax = plt.subplot(111)\n",
    "\n",
    "Q31.plot(kind = 'scatter', x = 'total', y = 'city', c ='yellow', ax = ax)\n",
    "Q32.plot(kind = 'scatter', x = 'total', y = 'city', c = 'orange', ax = ax)\n",
    "Q33.plot(kind = 'scatter', x = 'total', y = 'city', c = 'red', ax = ax)"
   ]
  },
  {
   "cell_type": "markdown",
   "id": "580620f9",
   "metadata": {},
   "source": [
    "## Question 4 "
   ]
  },
  {
   "cell_type": "code",
   "execution_count": 21,
   "id": "19d3e739",
   "metadata": {},
   "outputs": [
    {
     "name": "stdout",
     "output_type": "stream",
     "text": [
      "  Origin                            Airport  Total\n",
      "0    ORD       Chicago O'Hare International   2315\n",
      "1    ATL  William B Hartsfield-Atlanta Intl   1680\n",
      "2    DFW    Dallas-Fort Worth International   1520\n",
      "3    LAS             McCarran International   1055\n",
      "4    DEN                        Denver Intl   1019\n",
      "5    EWR                        Newark Intl    925\n",
      "6    LAX          Los Angeles International    897\n",
      "7    PHX   Phoenix Sky Harbor International    810\n",
      "8    PHL                  Philadelphia Intl    683\n",
      "9    LGA                          LaGuardia    634\n"
     ]
    }
   ],
   "source": [
    "# =========== Q4 ==============\n",
    "Q41 = ('''\n",
    "SELECT project.Origin AS Origin, airports.airport AS Airport, COUNT(*) AS Total \n",
    "FROM project JOIN airports ON project.Origin = airports.iata\n",
    "WHERE LateAircraftDelay > 0 AND Cancelled = 0 AND ArrDelay > 0 AND DepDelay > 0 \n",
    "GROUP BY Origin\n",
    "ORDER BY Total DESC\n",
    "LIMIT 10\n",
    "''')\n",
    "\n",
    "conn.commit()\n",
    "\n",
    "c.fetchall()\n",
    "\n",
    "Q41 = pd.read_sql('''\n",
    "SELECT project.Origin AS Origin, airports.airport AS Airport, COUNT(*) AS Total \n",
    "FROM project JOIN airports ON project.Origin = airports.iata\n",
    "WHERE LateAircraftDelay > 0 AND Cancelled = 0 AND ArrDelay > 0 AND DepDelay > 0 \n",
    "GROUP BY Origin\n",
    "ORDER BY Total DESC\n",
    "LIMIT 10\n",
    "''', conn)\n",
    "\n",
    "print(Q41)"
   ]
  },
  {
   "cell_type": "code",
   "execution_count": 22,
   "id": "d218cba7",
   "metadata": {
    "scrolled": true
   },
   "outputs": [
    {
     "name": "stdout",
     "output_type": "stream",
     "text": [
      "  Dest                            Airport  Total\n",
      "0  ORD       Chicago O'Hare International   1780\n",
      "1  DFW    Dallas-Fort Worth International   1315\n",
      "2  ATL  William B Hartsfield-Atlanta Intl   1295\n",
      "3  LAS             McCarran International    958\n",
      "4  LAX          Los Angeles International    914\n",
      "5  DEN                        Denver Intl    816\n",
      "6  PHX   Phoenix Sky Harbor International    807\n",
      "7  IAH       George Bush Intercontinental    670\n",
      "8  EWR                        Newark Intl    618\n",
      "9  SEA                Seattle-Tacoma Intl    606\n"
     ]
    }
   ],
   "source": [
    "Q42 = ('''\n",
    "SELECT project.Dest AS Dest, airports.airport AS Airport, COUNT(*) AS Total \n",
    "FROM project JOIN airports ON project.Origin = airports.iata\n",
    "WHERE LateAircraftDelay > 0 AND Cancelled = 0 AND ArrDelay > 0 AND DepDelay > 0 \n",
    "GROUP BY Dest\n",
    "ORDER BY Total DESC\n",
    "LIMIT 10\n",
    "''')\n",
    "\n",
    "conn.commit()\n",
    "\n",
    "c.fetchall()\n",
    "\n",
    "Q42 = pd.read_sql('''\n",
    "SELECT project.Dest AS Dest, airports.airport AS Airport, COUNT(*) AS Total \n",
    "FROM project JOIN airports ON project.Dest = airports.iata\n",
    "WHERE LateAircraftDelay > 0 AND Cancelled = 0 AND ArrDelay > 0 AND DepDelay > 0 \n",
    "GROUP BY Dest\n",
    "ORDER BY Total DESC\n",
    "LIMIT 10\n",
    "''', conn)\n",
    "\n",
    "print(Q42)"
   ]
  },
  {
   "cell_type": "code",
   "execution_count": 23,
   "id": "9699b9f3",
   "metadata": {},
   "outputs": [
    {
     "data": {
      "text/plain": [
       "<AxesSubplot:xlabel='Total', ylabel='Airport'>"
      ]
     },
     "execution_count": 23,
     "metadata": {},
     "output_type": "execute_result"
    },
    {
     "data": {
      "image/png": "[encoded data removed]",
      "text/plain": [
       "<Figure size 432x288 with 1 Axes>"
      ]
     },
     "metadata": {
      "needs_background": "light"
     },
     "output_type": "display_data"
    }
   ],
   "source": [
    "# =============== plotting Q4 =================\n",
    "\n",
    "ax = plt.subplot(111)\n",
    "\n",
    "Q41.plot(kind = 'scatter', x = 'Total', y = 'Airport', c ='green', ax = ax)\n",
    "Q42.plot(kind = 'scatter', x = 'Total', y = 'Airport', c = 'blue', ax = ax)"
   ]
  },
  {
   "cell_type": "markdown",
   "id": "26a5257c",
   "metadata": {},
   "source": [
    "### Digging deeper in Q4 (see comment in pdf)"
   ]
  },
  {
   "cell_type": "code",
   "execution_count": 24,
   "id": "e8a44b0b",
   "metadata": {},
   "outputs": [
    {
     "data": {
      "text/plain": [
       "609195"
      ]
     },
     "execution_count": 24,
     "metadata": {},
     "output_type": "execute_result"
    }
   ],
   "source": [
    "june = pd.read_csv(\"june.csv\")\n",
    "june.to_sql('june', con = conn, index = False)"
   ]
  },
  {
   "cell_type": "code",
   "execution_count": 25,
   "id": "56db1b02",
   "metadata": {
    "scrolled": true
   },
   "outputs": [
    {
     "name": "stdout",
     "output_type": "stream",
     "text": [
      "     TailNum  T Origin Dest  DepTime  DayofMonth\n",
      "0     N11106  1    ORD  CLE   2112.0          10\n",
      "1     N11127  1    ORD  CLE   1822.0          26\n",
      "2     N11140  1    ORD  CLE   2105.0          19\n",
      "3     N11547  1    ORD  CLE   1740.0          30\n",
      "4     N11612  2    ORD  IAH   1300.0          30\n",
      "...      ... ..    ...  ...      ...         ...\n",
      "1256  N989DL  1    ORD  ATL   1208.0           3\n",
      "1257  N990DL  1    ORD  ATL   1927.0           7\n",
      "1258  N992DL  1    ORD  ATL   1946.0           4\n",
      "1259  N993DL  1    ORD  ATL   1940.0          10\n",
      "1260  N995DL  1    ORD  ATL   1937.0          15\n",
      "\n",
      "[1261 rows x 6 columns]\n"
     ]
    }
   ],
   "source": [
    "Q4J = ('''\n",
    "SELECT TailNUm, COUNT (*) AS T, Origin, Dest, DepTime, DayOfMonth\n",
    "FROM June\n",
    "WHERE LateAircraftDelay > 0 AND Cancelled = 0 AND ArrDelay > 0 AND DepDelay > 0 AND Origin = 'ORD'\n",
    "GROUP BY TailNum\n",
    "''') \n",
    "\n",
    "conn.commit()\n",
    "\n",
    "c.fetchall()\n",
    "\n",
    "Q4J = pd.read_sql('''\n",
    "SELECT TailNUm, COUNT (*) AS T, Origin, Dest, DepTime, DayOfMonth\n",
    "FROM June\n",
    "WHERE LateAircraftDelay > 0 AND Cancelled = 0 AND ArrDelay > 0 AND DepDelay > 0 AND Origin = 'ORD'\n",
    "GROUP BY TailNum\n",
    "''', conn) \n",
    "                  \n",
    "print(Q4J)"
   ]
  },
  {
   "cell_type": "code",
   "execution_count": 26,
   "id": "989a2496",
   "metadata": {},
   "outputs": [
    {
     "name": "stdout",
     "output_type": "stream",
     "text": [
      "  TailNum Origin Dest  DepTime  DayofMonth\n",
      "0  N518AE    ORD  BNA    858.0          30\n",
      "1  N518AE    BNA  ORD   1134.0          30\n",
      "2  N518AE    ORD  SDF   1450.0          30\n",
      "3  N518AE    SDF  ORD   1743.0          30\n",
      "4  N518AE    ORD  DSM   1850.0          30\n",
      "5  N518AE    DSM  ORD   2013.0          30\n",
      "6  N518AE    ORD  BUF   2152.0          30\n"
     ]
    }
   ],
   "source": [
    "Q4J1 = ('''\n",
    "SELECT TailNUm, Origin, Dest, DepTime, DayOfMonth\n",
    "FROM June\n",
    "WHERE LateAircraftDelay > 0 AND Cancelled = 0 AND ArrDelay > 0 AND DepDelay > 0\n",
    "AND Tailnum = 'N518AE' AND DayOfMonth = 30\n",
    "GROUP BY DepTime\n",
    "''') \n",
    "\n",
    "conn.commit()\n",
    "\n",
    "c.fetchall()\n",
    "\n",
    "Q4J1 = pd.read_sql('''\n",
    "SELECT TailNUm, Origin, Dest, DepTime, DayOfMonth\n",
    "FROM June\n",
    "WHERE LateAircraftDelay > 0 AND Cancelled = 0 AND ArrDelay > 0 AND DepDelay > 0\n",
    "AND Tailnum = 'N518AE' AND DayOfMonth = 30\n",
    "GROUP BY DepTime\n",
    "''', conn) \n",
    "                  \n",
    "print(Q4J1)"
   ]
  },
  {
   "cell_type": "code",
   "execution_count": 27,
   "id": "93e16e5b",
   "metadata": {},
   "outputs": [],
   "source": [
    "conn.close()"
   ]
  },
  {
   "cell_type": "markdown",
   "id": "7924aa8f",
   "metadata": {},
   "source": [
    "## Question 5"
   ]
  },
  {
   "cell_type": "code",
   "execution_count": 28,
   "id": "9ca277e4",
   "metadata": {},
   "outputs": [],
   "source": [
    "import pandas as pd\n",
    "import numpy as np\n",
    "from sklearn.datasets import fetch_openml  #using openml to import data\n",
    "from sklearn.metrics import plot_roc_curve\n",
    "from sklearn.model_selection import train_test_split, GridSearchCV      \n",
    "from sklearn.linear_model import LogisticRegression\n",
    "from sklearn.ensemble import GradientBoostingClassifier\n",
    "from sklearn.pipeline import Pipeline\n",
    "from sklearn.impute import SimpleImputer\n",
    "from sklearn.preprocessing import StandardScaler, OneHotEncoder\n",
    "from sklearn.compose import ColumnTransformer #transform different types"
   ]
  },
  {
   "cell_type": "code",
   "execution_count": 29,
   "id": "eff6f110",
   "metadata": {},
   "outputs": [
    {
     "data": {
      "text/plain": [
       "Index(['Year', 'Month', 'DayofMonth', 'DayOfWeek', 'DepTime', 'CRSDepTime',\n",
       "       'ArrTime', 'CRSArrTime', 'UniqueCarrier', 'FlightNum', 'TailNum',\n",
       "       'ActualElapsedTime', 'CRSElapsedTime', 'AirTime', 'ArrDelay',\n",
       "       'DepDelay', 'Origin', 'Dest', 'Distance', 'TaxiIn', 'TaxiOut',\n",
       "       'Cancelled', 'CancellationCode', 'Diverted', 'CarrierDelay',\n",
       "       'WeatherDelay', 'NASDelay', 'SecurityDelay', 'LateAircraftDelay'],\n",
       "      dtype='object')"
      ]
     },
     "execution_count": 29,
     "metadata": {},
     "output_type": "execute_result"
    }
   ],
   "source": [
    "project = pd.read_csv(\"C:\\\\Users\\\\alida\\\\Documents\\\\project.csv\")\n",
    "project.columns"
   ]
  },
  {
   "cell_type": "code",
   "execution_count": 30,
   "id": "edbd887e",
   "metadata": {},
   "outputs": [
    {
     "data": {
      "text/html": [
       "<div>\n",
       "<style scoped>\n",
       "    .dataframe tbody tr th:only-of-type {\n",
       "        vertical-align: middle;\n",
       "    }\n",
       "\n",
       "    .dataframe tbody tr th {\n",
       "        vertical-align: top;\n",
       "    }\n",
       "\n",
       "    .dataframe thead th {\n",
       "        text-align: right;\n",
       "    }\n",
       "</style>\n",
       "<table border=\"1\" class=\"dataframe\">\n",
       "  <thead>\n",
       "    <tr style=\"text-align: right;\">\n",
       "      <th></th>\n",
       "      <th>Year</th>\n",
       "      <th>Month</th>\n",
       "      <th>DayofMonth</th>\n",
       "      <th>DayOfWeek</th>\n",
       "      <th>DepTime</th>\n",
       "      <th>CRSDepTime</th>\n",
       "      <th>ArrTime</th>\n",
       "      <th>CRSArrTime</th>\n",
       "      <th>UniqueCarrier</th>\n",
       "      <th>FlightNum</th>\n",
       "      <th>...</th>\n",
       "      <th>TaxiOut</th>\n",
       "      <th>Cancelled</th>\n",
       "      <th>CancellationCode</th>\n",
       "      <th>Diverted</th>\n",
       "      <th>CarrierDelay</th>\n",
       "      <th>WeatherDelay</th>\n",
       "      <th>NASDelay</th>\n",
       "      <th>SecurityDelay</th>\n",
       "      <th>LateAircraftDelay</th>\n",
       "      <th>TARGET</th>\n",
       "    </tr>\n",
       "  </thead>\n",
       "  <tbody>\n",
       "    <tr>\n",
       "      <th>0</th>\n",
       "      <td>2005</td>\n",
       "      <td>12</td>\n",
       "      <td>25</td>\n",
       "      <td>7</td>\n",
       "      <td>639.0</td>\n",
       "      <td>610</td>\n",
       "      <td>858.0</td>\n",
       "      <td>820</td>\n",
       "      <td>FL</td>\n",
       "      <td>229</td>\n",
       "      <td>...</td>\n",
       "      <td>8</td>\n",
       "      <td>0</td>\n",
       "      <td>NaN</td>\n",
       "      <td>0</td>\n",
       "      <td>29</td>\n",
       "      <td>0</td>\n",
       "      <td>9</td>\n",
       "      <td>0</td>\n",
       "      <td>0</td>\n",
       "      <td>1</td>\n",
       "    </tr>\n",
       "    <tr>\n",
       "      <th>1</th>\n",
       "      <td>2005</td>\n",
       "      <td>9</td>\n",
       "      <td>30</td>\n",
       "      <td>5</td>\n",
       "      <td>1240.0</td>\n",
       "      <td>1240</td>\n",
       "      <td>1402.0</td>\n",
       "      <td>1350</td>\n",
       "      <td>WN</td>\n",
       "      <td>2317</td>\n",
       "      <td>...</td>\n",
       "      <td>18</td>\n",
       "      <td>0</td>\n",
       "      <td>NaN</td>\n",
       "      <td>0</td>\n",
       "      <td>0</td>\n",
       "      <td>0</td>\n",
       "      <td>0</td>\n",
       "      <td>0</td>\n",
       "      <td>0</td>\n",
       "      <td>1</td>\n",
       "    </tr>\n",
       "    <tr>\n",
       "      <th>2</th>\n",
       "      <td>2005</td>\n",
       "      <td>12</td>\n",
       "      <td>28</td>\n",
       "      <td>3</td>\n",
       "      <td>1450.0</td>\n",
       "      <td>1453</td>\n",
       "      <td>1629.0</td>\n",
       "      <td>1628</td>\n",
       "      <td>MQ</td>\n",
       "      <td>4675</td>\n",
       "      <td>...</td>\n",
       "      <td>16</td>\n",
       "      <td>0</td>\n",
       "      <td>NaN</td>\n",
       "      <td>0</td>\n",
       "      <td>0</td>\n",
       "      <td>0</td>\n",
       "      <td>0</td>\n",
       "      <td>0</td>\n",
       "      <td>0</td>\n",
       "      <td>1</td>\n",
       "    </tr>\n",
       "    <tr>\n",
       "      <th>3</th>\n",
       "      <td>2005</td>\n",
       "      <td>9</td>\n",
       "      <td>16</td>\n",
       "      <td>5</td>\n",
       "      <td>2048.0</td>\n",
       "      <td>1955</td>\n",
       "      <td>2204.0</td>\n",
       "      <td>2126</td>\n",
       "      <td>DL</td>\n",
       "      <td>1101</td>\n",
       "      <td>...</td>\n",
       "      <td>11</td>\n",
       "      <td>0</td>\n",
       "      <td>NaN</td>\n",
       "      <td>0</td>\n",
       "      <td>0</td>\n",
       "      <td>0</td>\n",
       "      <td>0</td>\n",
       "      <td>0</td>\n",
       "      <td>38</td>\n",
       "      <td>1</td>\n",
       "    </tr>\n",
       "    <tr>\n",
       "      <th>4</th>\n",
       "      <td>2005</td>\n",
       "      <td>6</td>\n",
       "      <td>8</td>\n",
       "      <td>3</td>\n",
       "      <td>1412.0</td>\n",
       "      <td>1418</td>\n",
       "      <td>1920.0</td>\n",
       "      <td>1946</td>\n",
       "      <td>NW</td>\n",
       "      <td>320</td>\n",
       "      <td>...</td>\n",
       "      <td>11</td>\n",
       "      <td>0</td>\n",
       "      <td>NaN</td>\n",
       "      <td>0</td>\n",
       "      <td>0</td>\n",
       "      <td>0</td>\n",
       "      <td>0</td>\n",
       "      <td>0</td>\n",
       "      <td>0</td>\n",
       "      <td>0</td>\n",
       "    </tr>\n",
       "  </tbody>\n",
       "</table>\n",
       "<p>5 rows × 30 columns</p>\n",
       "</div>"
      ],
      "text/plain": [
       "   Year  Month  DayofMonth  DayOfWeek  DepTime  CRSDepTime  ArrTime  \\\n",
       "0  2005     12          25          7    639.0         610    858.0   \n",
       "1  2005      9          30          5   1240.0        1240   1402.0   \n",
       "2  2005     12          28          3   1450.0        1453   1629.0   \n",
       "3  2005      9          16          5   2048.0        1955   2204.0   \n",
       "4  2005      6           8          3   1412.0        1418   1920.0   \n",
       "\n",
       "   CRSArrTime UniqueCarrier  FlightNum  ... TaxiOut  Cancelled  \\\n",
       "0         820            FL        229  ...       8          0   \n",
       "1        1350            WN       2317  ...      18          0   \n",
       "2        1628            MQ       4675  ...      16          0   \n",
       "3        2126            DL       1101  ...      11          0   \n",
       "4        1946            NW        320  ...      11          0   \n",
       "\n",
       "   CancellationCode  Diverted  CarrierDelay  WeatherDelay NASDelay  \\\n",
       "0               NaN         0            29             0        9   \n",
       "1               NaN         0             0             0        0   \n",
       "2               NaN         0             0             0        0   \n",
       "3               NaN         0             0             0        0   \n",
       "4               NaN         0             0             0        0   \n",
       "\n",
       "  SecurityDelay  LateAircraftDelay  TARGET  \n",
       "0             0                  0       1  \n",
       "1             0                  0       1  \n",
       "2             0                  0       1  \n",
       "3             0                 38       1  \n",
       "4             0                  0       0  \n",
       "\n",
       "[5 rows x 30 columns]"
      ]
     },
     "execution_count": 30,
     "metadata": {},
     "output_type": "execute_result"
    }
   ],
   "source": [
    "project['TARGET'] = np.where(project['ArrDelay'] > 0, 1, 0)\n",
    "project.head()"
   ]
  },
  {
   "cell_type": "code",
   "execution_count": 31,
   "id": "ffe360f6",
   "metadata": {},
   "outputs": [
    {
     "data": {
      "text/plain": [
       "array([2005, 2006, 2007], dtype=int64)"
      ]
     },
     "execution_count": 31,
     "metadata": {},
     "output_type": "execute_result"
    }
   ],
   "source": [
    "project.Year.unique()"
   ]
  },
  {
   "cell_type": "code",
   "execution_count": 32,
   "id": "46a15a41",
   "metadata": {},
   "outputs": [],
   "source": [
    "df = project[[ 'DepTime', 'DepDelay', 'Year', 'TARGET']]"
   ]
  },
  {
   "cell_type": "code",
   "execution_count": 33,
   "id": "3ed12097",
   "metadata": {},
   "outputs": [
    {
     "name": "stderr",
     "output_type": "stream",
     "text": [
      "C:\\Users\\alida\\AppData\\Local\\Temp\\ipykernel_1656\\4050697816.py:1: SettingWithCopyWarning: \n",
      "A value is trying to be set on a copy of a slice from a DataFrame\n",
      "\n",
      "See the caveats in the documentation: https://pandas.pydata.org/pandas-docs/stable/user_guide/indexing.html#returning-a-view-versus-a-copy\n",
      "  df.dropna(axis=0, inplace =True)\n"
     ]
    }
   ],
   "source": [
    "df.dropna(axis=0, inplace =True)"
   ]
  },
  {
   "cell_type": "code",
   "execution_count": 34,
   "id": "2e0c81d8",
   "metadata": {},
   "outputs": [
    {
     "data": {
      "text/plain": [
       "DepTime     0\n",
       "DepDelay    0\n",
       "Year        0\n",
       "TARGET      0\n",
       "dtype: int64"
      ]
     },
     "execution_count": 34,
     "metadata": {},
     "output_type": "execute_result"
    }
   ],
   "source": [
    "df.isna().sum()"
   ]
  },
  {
   "cell_type": "code",
   "execution_count": 35,
   "id": "0e7a4a05",
   "metadata": {},
   "outputs": [],
   "source": [
    "x = df[[ 'DepTime', 'DepDelay']]"
   ]
  },
  {
   "cell_type": "code",
   "execution_count": 36,
   "id": "ed69d713",
   "metadata": {},
   "outputs": [],
   "source": [
    "y = df.TARGET"
   ]
  },
  {
   "cell_type": "code",
   "execution_count": 37,
   "id": "94e62dda",
   "metadata": {},
   "outputs": [],
   "source": [
    "x_train, x_test, y_train, y_test = train_test_split(x, y)"
   ]
  },
  {
   "cell_type": "code",
   "execution_count": 38,
   "id": "7af27d5c",
   "metadata": {},
   "outputs": [
    {
     "data": {
      "text/plain": [
       "287777    1\n",
       "102938    0\n",
       "75773     0\n",
       "87812     1\n",
       "28765     0\n",
       "         ..\n",
       "219250    1\n",
       "206383    1\n",
       "104841    0\n",
       "51437     1\n",
       "278072    1\n",
       "Name: TARGET, Length: 220590, dtype: int32"
      ]
     },
     "execution_count": 38,
     "metadata": {},
     "output_type": "execute_result"
    }
   ],
   "source": [
    "y_train"
   ]
  },
  {
   "cell_type": "code",
   "execution_count": 39,
   "id": "06cfb1fd",
   "metadata": {},
   "outputs": [
    {
     "data": {
      "text/plain": [
       "243643    0\n",
       "180215    1\n",
       "186867    1\n",
       "193017    1\n",
       "146834    1\n",
       "         ..\n",
       "137777    0\n",
       "280363    1\n",
       "138267    0\n",
       "158096    1\n",
       "45143     0\n",
       "Name: TARGET, Length: 73531, dtype: int32"
      ]
     },
     "execution_count": 39,
     "metadata": {},
     "output_type": "execute_result"
    }
   ],
   "source": [
    "y_test"
   ]
  },
  {
   "cell_type": "code",
   "execution_count": 40,
   "id": "c7cafef7",
   "metadata": {},
   "outputs": [
    {
     "data": {
      "text/plain": [
       "LogisticRegression()"
      ]
     },
     "execution_count": 40,
     "metadata": {},
     "output_type": "execute_result"
    }
   ],
   "source": [
    "model = LogisticRegression()\n",
    "model.fit(x_train, y_train)"
   ]
  },
  {
   "cell_type": "code",
   "execution_count": 41,
   "id": "db702a5e",
   "metadata": {},
   "outputs": [
    {
     "data": {
      "text/plain": [
       "array([0, 1, 0, ..., 0, 1, 0])"
      ]
     },
     "execution_count": 41,
     "metadata": {},
     "output_type": "execute_result"
    }
   ],
   "source": [
    "model.predict(x_test)"
   ]
  },
  {
   "cell_type": "markdown",
   "id": "f7040875",
   "metadata": {},
   "source": [
    "## ROC curve and AUC"
   ]
  },
  {
   "cell_type": "code",
   "execution_count": 42,
   "id": "3e038c2b",
   "metadata": {},
   "outputs": [
    {
     "name": "stderr",
     "output_type": "stream",
     "text": [
      "C:\\Users\\alida\\anaconda3\\lib\\site-packages\\sklearn\\utils\\deprecation.py:87: FutureWarning: Function plot_roc_curve is deprecated; Function :func:`plot_roc_curve` is deprecated in 1.0 and will be removed in 1.2. Use one of the class methods: :meth:`sklearn.metric.RocCurveDisplay.from_predictions` or :meth:`sklearn.metric.RocCurveDisplay.from_estimator`.\n",
      "  warnings.warn(msg, category=FutureWarning)\n"
     ]
    },
    {
     "data": {
      "text/plain": [
       "<sklearn.metrics._plot.roc_curve.RocCurveDisplay at 0x28eaa515370>"
      ]
     },
     "execution_count": 42,
     "metadata": {},
     "output_type": "execute_result"
    },
    {
     "data": {
      "image/png": "[encoded data removed]",
      "text/plain": [
       "<Figure size 432x288 with 1 Axes>"
      ]
     },
     "metadata": {
      "needs_background": "light"
     },
     "output_type": "display_data"
    }
   ],
   "source": [
    "plot_roc_curve(model, x_test, y_test)"
   ]
  }
 ],
 "metadata": {
  "kernelspec": {
   "display_name": "Python 3 (ipykernel)",
   "language": "python",
   "name": "python3"
  },
  "language_info": {
   "codemirror_mode": {
    "name": "ipython",
    "version": 3
   },
   "file_extension": ".py",
   "mimetype": "text/x-python",
   "name": "python",
   "nbconvert_exporter": "python",
   "pygments_lexer": "ipython3",
   "version": "3.9.12"
  }
 },
 "nbformat": 4,
 "nbformat_minor": 5
}
